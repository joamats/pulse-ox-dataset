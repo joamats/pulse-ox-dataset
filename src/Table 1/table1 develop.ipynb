{
 "cells": [
  {
   "cell_type": "code",
   "execution_count": 33,
   "metadata": {},
   "outputs": [
    {
     "name": "stderr",
     "output_type": "stream",
     "text": [
      "/var/folders/78/7bh523553yl6dn_r17wfrql40000gn/T/ipykernel_35109/2601315501.py:5: DtypeWarning: Columns (0,30) have mixed types. Specify dtype option on import or set low_memory=False.\n",
      "  data = pd.read_csv(f'/Users/Tristan/Documents/Projekte/Boston Celi/1 SaO2-SpO2/pulse-ox-dataset/data/pulseOx_dataset.csv')\n"
     ]
    }
   ],
   "source": [
    "from tableone import TableOne\n",
    "import pandas as pd\n",
    "import os\n",
    "\n",
    "data = pd.read_csv(f'/Users/Tristan/Documents/Projekte/Boston Celi/1 SaO2-SpO2/pulse-ox-dataset/data/pulseOx_dataset.csv')\n"
   ]
  },
  {
   "cell_type": "markdown",
   "metadata": {},
   "source": [
    "Aggregate Data on the patient level first"
   ]
  },
  {
   "cell_type": "code",
   "execution_count": 42,
   "metadata": {},
   "outputs": [
    {
     "name": "stdout",
     "output_type": "stream",
     "text": [
      "source_db\n",
      "eicu            [0]\n",
      "mimic_iii    [0, 1]\n",
      "mimic_iv     [0, 1]\n",
      "dtype: object\n"
     ]
    }
   ],
   "source": [
    "# print unique values of sex_female for source_db = 'eicu'\n",
    "# \n",
    "df = data.groupby('source_db').apply(lambda x: x['sex_female'].unique())\n",
    "print(df)"
   ]
  },
  {
   "cell_type": "code",
   "execution_count": 36,
   "metadata": {},
   "outputs": [],
   "source": [
    "# aggregation if we have more than one pair\n",
    "\n",
    "# get anchor year as var?"
   ]
  },
  {
   "cell_type": "code",
   "execution_count": 39,
   "metadata": {},
   "outputs": [
    {
     "name": "stderr",
     "output_type": "stream",
     "text": [
      "/Users/Tristan/Library/Python/3.10/lib/python/site-packages/tableone/tableone.py:1441: UserWarning: Order value not found: in_hospital_mortality: ['1', '0']\n",
      "  warnings.warn((\"Order value not found: \"\n",
      "/Users/Tristan/Library/Python/3.10/lib/python/site-packages/tableone/tableone.py:1441: UserWarning: Order value not found: teachingstatus: ['TRUE', 'FALSE']\n",
      "  warnings.warn((\"Order value not found: \"\n"
     ]
    }
   ],
   "source": [
    "# Groupby Variable\n",
    "groupby = \"source_db\"\n",
    "source = \"source_db\"\n",
    "\n",
    "# Encode NA as 0, if missing means 0\n",
    "cols_na = ['comorbidity_score_value', 'in_hospital_mortality']\n",
    "\n",
    "for c in cols_na:\n",
    "    data[c] = data[c].fillna(0)\n",
    "\n",
    "# Continuous Variables\n",
    "data['los_hosp_dead'] = data[data.in_hospital_mortality == 1].los_hospital\n",
    "data['los_hosp_surv'] = data[data.in_hospital_mortality == 0].los_hospital\n",
    "\n",
    "data['los_icu_dead'] = data[data.in_hospital_mortality == 1].los_ICU\n",
    "data['los_icu_surv'] = data[data.in_hospital_mortality == 0].los_ICU\n",
    "\n",
    "# Column methehemoglobin has ___, remove thhe underscore\n",
    "#data.Methemoglobin = data.Methemoglobin.apply(lambda x: x.replace(\"___\", \"\"))\n",
    "\n",
    "# Convert \"Methemoglobin\" column to numeric and replace non-numeric values (including double underscores) with NaN\n",
    "data['Methemoglobin'] = pd.to_numeric(data['Methemoglobin'], errors='coerce')\n",
    "\n",
    "\n",
    "order = {\n",
    "    \"race_ethnicity\": [\"White\", \"Black\", \"Hispanic OR Latino\", \"Asian\", \n",
    "                       \"Unknown\",  'American Indian / Alaska Native',\n",
    "                        'Native Hawaiian / Pacific Islander', 'More Than One Race'],\n",
    "    \"sex_female\": [1, 0],\n",
    "    \"in_hospital_mortality\": [1, 0],\n",
    "    \"region\": [\"Midwest\", \"Northeast\", \"South\", \"West\"],\n",
    "    \"numbedscategory\": ['>= 500', '100 - 249', '<100', '250 - 499'],\n",
    "    'teachingstatus': ['TRUE', 'FALSE'],\n",
    "}\n",
    "\n",
    "limit = {\n",
    "    \"sex_female\": 1,\n",
    "    \"in_hospital_mortality\": 1,\n",
    "}\n",
    "\n",
    "categ = ['sex_female',\n",
    "        'in_hospital_mortality', \n",
    "        'race_ethnicity',\n",
    "        \"region\",\n",
    "        \"numbedscategory\",\n",
    "        'teachingstatus',\n",
    "    ]\n",
    "\n",
    "nonnorm = ['admission_age', \n",
    "            'BMI_admission',\n",
    "            'los_icu_dead',\n",
    "            'los_icu_surv',\n",
    "            'sofa_past_overall_24hr', # error need to get first 24 hours\n",
    "            'delta_sofa_past_overall_24hr',\n",
    "            'sofa_future_overall_24hr',\n",
    "            'delta_sofa_future_overall_24hr',\n",
    "            'comorbidity_score_value', # error either CCI or Elix\n",
    "            'pH', \n",
    "            'pCO2', \n",
    "            'pO2',\n",
    "            'SaO2',\n",
    "            'SpO2',\n",
    "            'Carboxyhemoglobin',\n",
    "            'Methemoglobin',\n",
    "            'vitals_heart_rate',\n",
    "            'vitals_resp_rate',\n",
    "            'vitals_mbp_i',\n",
    "            'vitals_tempc',\n",
    "        ]\n",
    "\n",
    "labls = {\n",
    "    'race_ethnicity': 'Race-ethnicity',\n",
    "    'admission_age': 'Age',\n",
    "    'sex_female': 'Sex female',\n",
    "    'in_hospital_mortality': \"In-Hospital Mortality\",\n",
    "    \"region\": 'US Census Region',\n",
    "    \"numbedscategory\": 'No. of Beds',\n",
    "    'teachingstatus': 'Teaching Hospital',\n",
    "    'los_icu_dead': \"ICU LOS (days, if deceased)\",\n",
    "    'los_icu_surv': \"ICU LOS (days, if survived)\",\n",
    "    'comorbidity_score_value': \"Charlson Comorbidity Index\",\n",
    "    'sofa_past_overall_24hr': \"SOFA Score before pair\",\n",
    "    'delta_sofa_past_overall_24hr': \"SOFA Time delta before pair\",\n",
    "    'sofa_future_overall_24hr': \"SOFA Score after pair\",\n",
    "    'delta_sofa_future_overall_24hr': \"SOFA Time delta after pair\",    \n",
    "    'vitals_heart_rate': \"Heart Rate before pair\",\n",
    "    'vitals_resp_rate': \"Respiratory Rate before pair\",\n",
    "    'vitals_mbp_i': \"Mean Blood Pressure before pair\",\n",
    "    'vitals_tempc': \"Temperature before pair\",\n",
    "    }\n",
    "\n",
    "decimals = {\n",
    "    'admission_age': 0,\n",
    "    'BMI_admission': 1,\n",
    "    'pH': 0,\n",
    "    'los_icu_dead': 2,\n",
    "    'los_icu_surv': 2, \n",
    "    }\n",
    "\n",
    "# Create a TableOne \n",
    "table1 = TableOne(data, columns=categ+nonnorm,\n",
    "                    rename=labls, limit=limit, order=order, decimals=decimals,\n",
    "                    groupby=groupby, categorical=categ, nonnormal=nonnorm,\n",
    "                    missing=False, overall=True,\n",
    "                    dip_test=True, normal_test=True, tukey_test=True, htest_name=True)\n",
    "\n",
    "# Write table 1 to excel\n",
    "try:\n",
    "    table1.to_excel(f\"/Users/Tristan/Documents/Projekte/Boston Celi/1 SaO2-SpO2/pulse-ox-dataset/results/table1/groupby_{source}.xlsx\")\n",
    "# if folder does not exist, create it and save results\n",
    "except:\n",
    "    os.mkdir(\"/Users/Tristan/Documents/Projekte/Boston Celi/1 SaO2-SpO2/pulse-ox-dataset/results/table1\")\n",
    "    table1.to_excel(f\"/Users/Tristan/Documents/Projekte/Boston Celi/1 SaO2-SpO2/pulse-ox-dataset/results/table1/groupby_{source}.xlsx\")\n",
    "\n",
    "\n"
   ]
  }
 ],
 "metadata": {
  "kernelspec": {
   "display_name": "Python 3",
   "language": "python",
   "name": "python3"
  },
  "language_info": {
   "codemirror_mode": {
    "name": "ipython",
    "version": 3
   },
   "file_extension": ".py",
   "mimetype": "text/x-python",
   "name": "python",
   "nbconvert_exporter": "python",
   "pygments_lexer": "ipython3",
   "version": "3.10.5"
  },
  "orig_nbformat": 4
 },
 "nbformat": 4,
 "nbformat_minor": 2
}
